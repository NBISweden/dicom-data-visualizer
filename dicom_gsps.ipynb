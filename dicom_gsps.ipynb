{
 "cells": [
  {
   "cell_type": "markdown",
   "source": [
    "# Exploring and visualizing DICOM GSPS\n",
    "The purpose of this notebook is to provide guidance when attempting to explore and visualize certain DICOM data sets as provided by [AIDA](https://datahub.aida.scilifelab.se/). In particular, datasets containing DICOM GSPS. For example, the following datasets:\n",
    "* [CTPA](https://datahub.aida.scilifelab.se/)\n",
    "* [CTPEL](https://datahub.aida.scilifelab.se/10.23698/aida/ctpel)\n",
    "* [DRLI](https://datahub.aida.scilifelab.se/10.23698/aida/drli)\n",
    "* [DRSKE](https://datahub.aida.scilifelab.se/10.23698/aida/drske)\n",
    "\n",
    "In the following cells, it is assumed that one examination from any of these examinations are available locally."
   ],
   "metadata": {}
  },
  {
   "cell_type": "markdown",
   "source": [
    "## Preparations"
   ],
   "metadata": {}
  },
  {
   "cell_type": "code",
   "execution_count": 1,
   "source": [
    "# Imports\n",
    "%matplotlib inline\n",
    "from pathlib import Path\n",
    "import pydicom\n",
    "import numpy as np\n",
    "import matplotlib.pyplot as plt \n",
    "from ipywidgets.widgets import * \n",
    "\n",
    "from lib.helper import read_and_sort_dicom_files"
   ],
   "outputs": [],
   "metadata": {}
  },
  {
   "cell_type": "markdown",
   "source": [
    "Specify data to explore and visualize by providing a path to a folder. It is assumed that the specified folder contains a single examination and that all relevant files end with `.dcm`."
   ],
   "metadata": {}
  },
  {
   "cell_type": "code",
   "execution_count": 2,
   "source": [
    "folder = Path(\"/mnt/c/Users/da-for/Downloads/0FC3188AAA7E6851\")"
   ],
   "outputs": [],
   "metadata": {}
  },
  {
   "cell_type": "markdown",
   "source": [
    "Loop over all files to locate GSPS files and to create a mapping structure."
   ],
   "metadata": {}
  },
  {
   "cell_type": "code",
   "execution_count": 3,
   "source": [
    "gsps_files = []\n",
    "sop_uid_to_file = {}\n",
    "sop_uid_to_series_uid = {}\n",
    "series_uid_to_sop_uids = {}\n",
    "\n",
    "for dcm_file in folder.rglob(\"*.dcm\"):\n",
    "    ds = pydicom.read_file(dcm_file)\n",
    "    if ds.Modality == \"PR\":\n",
    "        gsps_files.append(dcm_file)\n",
    "    \n",
    "    sop_uid_to_file[ds.SOPInstanceUID] = dcm_file\n",
    "    sop_uid_to_series_uid[ds.SOPInstanceUID] = ds.SeriesInstanceUID\n",
    "    if ds.SeriesInstanceUID not in series_uid_to_sop_uids:\n",
    "        series_uid_to_sop_uids[ds.SeriesInstanceUID] = []\n",
    "    series_uid_to_sop_uids[ds.SeriesInstanceUID].append(ds.SOPInstanceUID)"
   ],
   "outputs": [],
   "metadata": {}
  },
  {
   "cell_type": "markdown",
   "source": [
    "## DICOM GSPS\n",
    "A DICOM GSPS object contains information about how to present (display) a DICOM instance, a.k.a. an image. This includes aspects such how to rotate, pan and zoom the image, window/level, etc. A GSPS object can also include graphic annotations, i.e., overlays. These can be text objects or graphic objects, and are essentially instructions for a viewer to render vector graphics on top of the referenced image."
   ],
   "metadata": {}
  },
  {
   "cell_type": "markdown",
   "source": [
    "In the following, we assume that at least one GSPS file was found and that we use the first one."
   ],
   "metadata": {}
  },
  {
   "cell_type": "code",
   "execution_count": 4,
   "source": [
    "gsps_file = gsps_files[0]\n",
    "gsps_ds = pydicom.read_file(gsps_file)\n",
    "print(f\"The GSPS file {gsps_file} is selected for exploration\")"
   ],
   "outputs": [
    {
     "output_type": "stream",
     "name": "stdout",
     "text": [
      "The GSPS file /mnt/c/Users/da-for/Downloads/0FC3188AAA7E6851/im_2/x0000.dcm is selected for exploration\n"
     ]
    }
   ],
   "metadata": {}
  },
  {
   "cell_type": "markdown",
   "source": [
    "In the following cells, the content of the GSPS file will be explored step by step."
   ],
   "metadata": {}
  },
  {
   "cell_type": "code",
   "execution_count": 5,
   "source": [
    "print(f\"This GSPS file contains {len(gsps_ds.GraphicAnnotationSequence)} graphic annotations\")"
   ],
   "outputs": [
    {
     "output_type": "stream",
     "name": "stdout",
     "text": [
      "This GSPS file contains 901 graphic annotations\n"
     ]
    }
   ],
   "metadata": {}
  },
  {
   "cell_type": "markdown",
   "source": [
    "The first annotation has the following content:"
   ],
   "metadata": {}
  },
  {
   "cell_type": "code",
   "execution_count": 6,
   "source": [
    "print(f\"The reference to a SOP Instance UID (the image):\")\n",
    "print(gsps_ds.GraphicAnnotationSequence[0].ReferencedImageSequence[0])\n",
    "print(f\"\")\n",
    "print(f\"The reference to a Graphic Layer:\")\n",
    "print(gsps_ds.GraphicAnnotationSequence[0].GraphicLayer)\n",
    "print(f\"\")\n",
    "print(\"The Text Object (if available):\")\n",
    "if \"TextObjectSequence\" in gsps_ds.GraphicAnnotationSequence[0]:\n",
    "    print(gsps_ds.GraphicAnnotationSequence[0].TextObjectSequence[0])\n",
    "print(f\"\")\n",
    "print(\"The Graphic Object (if available):\")\n",
    "if \"GraphicObjectSequence\" in gsps_ds.GraphicAnnotationSequence[0]:\n",
    "    print(gsps_ds.GraphicAnnotationSequence[0].GraphicObjectSequence[0])"
   ],
   "outputs": [
    {
     "output_type": "stream",
     "name": "stdout",
     "text": [
      "The reference to a SOP Instance UID (the image):\n",
      "(0008, 1150) Referenced SOP Class UID            UI: CT Image Storage\n",
      "(0008, 1155) Referenced SOP Instance UID         UI: 1.3.6.1.4.1.9328.50.4.13397\n",
      "\n",
      "The reference to a Graphic Layer:\n",
      "RIGHT FEMUR\n",
      "\n",
      "The Text Object (if available):\n",
      "\n",
      "The Graphic Object (if available):\n",
      "(0070, 0005) Graphic Annotation Units            CS: 'PIXEL'\n",
      "(0070, 0020) Graphic Dimensions                  US: 2\n",
      "(0070, 0021) Number of Graphic Points            US: 181\n",
      "(0070, 0022) Graphic Data                        FL: Array of 362 elements\n",
      "(0070, 0023) Graphic Type                        CS: 'POLYLINE'\n"
     ]
    }
   ],
   "metadata": {}
  },
  {
   "cell_type": "markdown",
   "source": [
    "Each annotation can also contain information regarding how to style the annotation, i.e., color, line thickness, filled, font, etc."
   ],
   "metadata": {}
  },
  {
   "cell_type": "markdown",
   "source": [
    "More information about the referenced `GraphicLayer` can be found in the `GraphicLayerSequence`."
   ],
   "metadata": {}
  },
  {
   "cell_type": "code",
   "execution_count": 7,
   "source": [
    "for graphical_layer in gsps_ds.GraphicLayerSequence:\n",
    "    if graphical_layer.GraphicLayer == gsps_ds.GraphicAnnotationSequence[0].GraphicLayer:\n",
    "        print(graphical_layer)"
   ],
   "outputs": [
    {
     "output_type": "stream",
     "name": "stdout",
     "text": [
      "(0070, 0002) Graphic Layer                       CS: 'RIGHT FEMUR'\n",
      "(0070, 0062) Graphic Layer Order                 IS: '1'\n",
      "(0070, 0401) Graphic Layer Recommended Display C US: [49512, 38656, 52736]\n"
     ]
    }
   ],
   "metadata": {}
  },
  {
   "cell_type": "markdown",
   "source": [
    "All this can now be used to visualize the contained annotations, but first we will map all annotations to the respective `ReferencedSOPInstanceUID`."
   ],
   "metadata": {}
  },
  {
   "cell_type": "code",
   "execution_count": 8,
   "source": [
    "sop_uid_to_annotations = dict()\n",
    "SERIES_INSTANCE_UID = None\n",
    "for annotation in gsps_ds.GraphicAnnotationSequence:\n",
    "    if not SERIES_INSTANCE_UID:\n",
    "        SERIES_INSTANCE_UID = sop_uid_to_series_uid[annotation.ReferencedImageSequence[0].ReferencedSOPInstanceUID]\n",
    "    if annotation.ReferencedImageSequence[0].ReferencedSOPInstanceUID not in sop_uid_to_annotations:\n",
    "        sop_uid_to_annotations[annotation.ReferencedImageSequence[0].ReferencedSOPInstanceUID] = []\n",
    "    sop_uid_to_annotations[annotation.ReferencedImageSequence[0].ReferencedSOPInstanceUID].append(annotation)\n",
    "\n",
    "sop_uids = series_uid_to_sop_uids[SERIES_INSTANCE_UID]\n",
    "dcm_files = [sop_uid_to_file[sop_uid] for sop_uid in sop_uids]\n",
    "sorted_ds = read_and_sort_dicom_files(dcm_files)"
   ],
   "outputs": [],
   "metadata": {}
  },
  {
   "cell_type": "markdown",
   "source": [
    "Visualize the annotations together with the referenced images.\n"
   ],
   "metadata": {}
  },
  {
   "cell_type": "code",
   "execution_count": 9,
   "source": [
    "# Define a function to use to show images and associated annotations\n",
    "def show_image_and_annotations(ind, sorted_ds, sop_uid_to_annotations):\n",
    "    image_ds = sorted_ds[ind]\n",
    "    sop_uid = image_ds.SOPInstanceUID\n",
    "    fig, ax = plt.subplots(1, figsize = (9,9), dpi=100)\n",
    "    ax.imshow(image_ds.pixel_array, cmap=plt.cm.gray)\n",
    "    annotations = []\n",
    "    if sop_uid in sop_uid_to_annotations:\n",
    "        annotations = sop_uid_to_annotations[sop_uid]\n",
    "    for annotation in annotations:\n",
    "        if \"GraphicObjectSequence\" in annotation:\n",
    "            coords = np.reshape(annotation.GraphicObjectSequence[0].GraphicData, (-1,2))\n",
    "            annotation_type = annotation.GraphicObjectSequence[0].GraphicType\n",
    "            filled = annotation.GraphicObjectSequence[0].get(\"GraphicFilled\", \"N\") == \"Y\"\n",
    "            if annotation_type == \"POINT\":\n",
    "                # Instead of a point we draw a circle\n",
    "                poly = plt.Circle(coords[0], radius=3, facecolor=None, fill=filled, color=[1,0,0])\n",
    "                ax.add_patch(poly)\n",
    "            elif annotation_type == \"POLYLINE\":\n",
    "                poly = plt.Polygon(coords, facecolor=None, fill=filled, color=[1,0,0])\n",
    "                ax.add_patch(poly)\n",
    "            elif annotation_type == \"INTERPOLATED\":\n",
    "                lines = plt.Line2D(coords[:,0], coords[:,1], color=[1,0,0])\n",
    "                ax.add_line(lines)\n",
    "            elif annotation_type == \"CIRCLE\":\n",
    "                poly = plt.Circle(\n",
    "                    xy=coords[0], \n",
    "                    radius=np.linalg.norm(coords[1] - coords[0]), \n",
    "                    facecolor=None, \n",
    "                    fill=filled, \n",
    "                    color=[1,0,0])\n",
    "                ax.add_patch(poly)\n",
    "            elif annotation_type == \"ELLIPSE\":\n",
    "                # TODO This part has not been tested\n",
    "                major_axis = coords[1] - coords[0]\n",
    "                major_axis = major_axis / np.linalg.norm(major_axis)\n",
    "                x_vec = np.array([1, 0])       \n",
    "                angle_1 = np.arctan2(*x_vec[::-1])\n",
    "                angle_2 = np.arctan2(*major_axis[::-1])\n",
    "                rot_angle = np.rad2deg((angle_1 - angle_2) % (2 * np.pi))\n",
    "                poly = plt.Circle(\n",
    "                    xy=coords[1] - coords[0],\n",
    "                    width=np.linalg.norm(coords[1] - coords[0]),\n",
    "                    height=np.linalg.norm(coords[3] - coords[2]),\n",
    "                    angle=rot_angle,\n",
    "                    facecolor=None, \n",
    "                    fill=filled, \n",
    "                    color=[1,0,0])\n",
    "                ax.add_patch(poly)\n",
    "                pass\n",
    "        elif \"TextObjectSequence\" in annotation:\n",
    "            coords = annotation.TextObjectSequence[0].AnchorPoint\n",
    "            text = annotation.TextObjectSequence[0].UnformattedTextValue\n",
    "            ax.text(coords[0], coords[1], text, color=[1,0,0])\n",
    "            \n",
    "    plt.show()\n",
    "    return ind"
   ],
   "outputs": [],
   "metadata": {}
  },
  {
   "cell_type": "code",
   "execution_count": 10,
   "source": [
    "interact(\n",
    "    show_image_and_annotations, \n",
    "    ind=(0, len(sorted_ds)-1), \n",
    "    sorted_ds=fixed(sorted_ds), \n",
    "    sop_uid_to_annotations=fixed(sop_uid_to_annotations),\n",
    ")"
   ],
   "outputs": [
    {
     "output_type": "display_data",
     "data": {
      "application/vnd.jupyter.widget-view+json": {
       "version_major": 2,
       "version_minor": 0,
       "model_id": "5eea8c43179f47e284d04a042758334e"
      },
      "text/plain": [
       "interactive(children=(IntSlider(value=267, description='ind', max=534), Output()), _dom_classes=('widget-inter…"
      ]
     },
     "metadata": {}
    },
    {
     "output_type": "execute_result",
     "data": {
      "text/plain": [
       "<function __main__.show_image_and_annotations(ind, sorted_ds, sop_uid_to_annotations)>"
      ]
     },
     "metadata": {},
     "execution_count": 10
    }
   ],
   "metadata": {}
  }
 ],
 "metadata": {
  "interpreter": {
   "hash": "e4c3529a2f26db86f7b052929ba648f8566a6e199a06770fe9bd35b5a3eddc72"
  },
  "kernelspec": {
   "name": "python3",
   "display_name": "Python 3.7.7 64-bit ('pydicom': pyenv)"
  },
  "language_info": {
   "codemirror_mode": {
    "name": "ipython",
    "version": 3
   },
   "file_extension": ".py",
   "mimetype": "text/x-python",
   "name": "python",
   "nbconvert_exporter": "python",
   "pygments_lexer": "ipython3",
   "version": "3.7.7"
  }
 },
 "nbformat": 4,
 "nbformat_minor": 2
}