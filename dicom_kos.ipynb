{
 "cells": [
  {
   "cell_type": "markdown",
   "source": [
    "# Exploring and visualizing DICOM KOS\n",
    "The purpose of this notebook is to provide guidance when attempting to explore and visualize certain DICOM data sets as provided by [AIDA](https://datahub.aida.scilifelab.se/). In particular, datasets containing DICOM KOS. For example, the following datasets:\n",
    "* [CTPA](https://datahub.aida.scilifelab.se/)\n",
    "* [CTPEL](https://datahub.aida.scilifelab.se/10.23698/aida/ctpel)\n",
    "* [DRLI](https://datahub.aida.scilifelab.se/10.23698/aida/drli)\n",
    "* [DRSKE](https://datahub.aida.scilifelab.se/10.23698/aida/drske)\n",
    "\n",
    "In the following cells, it is assumed that one examination from any of these examinations are available locally."
   ],
   "metadata": {}
  },
  {
   "cell_type": "markdown",
   "source": [
    "## Preparations"
   ],
   "metadata": {}
  },
  {
   "cell_type": "code",
   "execution_count": 1,
   "source": [
    "# Imports\n",
    "%matplotlib inline\n",
    "from pathlib import Path\n",
    "import pydicom"
   ],
   "outputs": [],
   "metadata": {}
  },
  {
   "cell_type": "markdown",
   "source": [
    "Specify data to explore and visualize by providing a path to a folder. It is assumed that the specified folder contains a single examination and that all relevant files end with `.dcm`."
   ],
   "metadata": {}
  },
  {
   "cell_type": "code",
   "execution_count": 2,
   "source": [
    "folder = Path(\"/mnt/c/Users/da-for/Downloads/0FC3188AAA7E6851\")"
   ],
   "outputs": [],
   "metadata": {}
  },
  {
   "cell_type": "markdown",
   "source": [
    "Loop over all files to understand the content and to create a mapping structure.\n"
   ],
   "metadata": {}
  },
  {
   "cell_type": "code",
   "execution_count": 3,
   "source": [
    "kos_files = []\n",
    "\n",
    "for dcm_file in folder.rglob(\"*.dcm\"):\n",
    "    ds = pydicom.read_file(dcm_file)\n",
    "    if ds.Modality == \"KO\":\n",
    "        kos_files.append(dcm_file)"
   ],
   "outputs": [],
   "metadata": {}
  },
  {
   "cell_type": "markdown",
   "source": [
    "## DICOM KOS\n",
    "A DICOM KOS object (Key Object Selection Document) is a DICOM object that allows other SOP Instance to be selected for various reasons. A common reason is to highlight images of interest."
   ],
   "metadata": {}
  },
  {
   "cell_type": "markdown",
   "source": [
    "In the following, we assume that at least one KOS file was found and that we use the first one."
   ],
   "metadata": {}
  },
  {
   "cell_type": "code",
   "execution_count": 4,
   "source": [
    "kos_file = kos_files[0]\n",
    "kos_ds = pydicom.read_file(kos_file)\n",
    "print(f\"The KOS file {kos_file} is selected for exploration\")   "
   ],
   "outputs": [
    {
     "output_type": "stream",
     "name": "stdout",
     "text": [
      "The KOS file /mnt/c/Users/da-for/Downloads/0FC3188AAA7E6851/im_5/x0000.dcm is selected for exploration\n"
     ]
    }
   ],
   "metadata": {}
  },
  {
   "cell_type": "markdown",
   "source": [
    "In the following cells, the content of the KOS file will be explored step by step."
   ],
   "metadata": {}
  },
  {
   "cell_type": "markdown",
   "source": [
    "The `ConceptNameCodeSequence` describes the type of report"
   ],
   "metadata": {}
  },
  {
   "cell_type": "code",
   "execution_count": 5,
   "source": [
    "print(kos_ds.ConceptNameCodeSequence[0])"
   ],
   "outputs": [
    {
     "output_type": "stream",
     "name": "stdout",
     "text": [
      "(0008, 0100) Code Value                          SH: '113000'\n",
      "(0008, 0102) Coding Scheme Designator            SH: 'DCM'\n",
      "(0008, 0104) Code Meaning                        LO: 'Of Interest'\n"
     ]
    }
   ],
   "metadata": {}
  },
  {
   "cell_type": "markdown",
   "source": [
    "The `ContentTemplateSequence` describes the template used to create the KOS report."
   ],
   "metadata": {}
  },
  {
   "cell_type": "code",
   "execution_count": 6,
   "source": [
    "print(kos_ds.ContentTemplateSequence[0])"
   ],
   "outputs": [
    {
     "output_type": "stream",
     "name": "stdout",
     "text": [
      "(0008, 0105) Mapping Resource                    CS: 'DCMR'\n",
      "(0040, db00) Template Identifier                 CS: '2010'\n"
     ]
    }
   ],
   "metadata": {}
  },
  {
   "cell_type": "markdown",
   "source": [
    "Each item in the `ContentSequence` will describe one image of interest."
   ],
   "metadata": {}
  },
  {
   "cell_type": "code",
   "execution_count": 7,
   "source": [
    "print(kos_ds.ContentSequence[0])"
   ],
   "outputs": [
    {
     "output_type": "stream",
     "name": "stdout",
     "text": [
      "(0008, 1199)  Referenced SOP Sequence  1 item(s) ---- \n",
      "   (0008, 1150) Referenced SOP Class UID            UI: CT Image Storage\n",
      "   (0008, 1155) Referenced SOP Instance UID         UI: 1.3.6.1.4.1.9328.50.4.13311\n",
      "   ---------\n",
      "(0040, a010) Relationship Type                   CS: 'CONTAINS'\n",
      "(0040, a040) Value Type                          CS: 'IMAGE'\n"
     ]
    }
   ],
   "metadata": {}
  }
 ],
 "metadata": {
  "interpreter": {
   "hash": "e4c3529a2f26db86f7b052929ba648f8566a6e199a06770fe9bd35b5a3eddc72"
  },
  "kernelspec": {
   "name": "python3",
   "display_name": "Python 3.7.7 64-bit ('pydicom': pyenv)"
  },
  "language_info": {
   "codemirror_mode": {
    "name": "ipython",
    "version": 3
   },
   "file_extension": ".py",
   "mimetype": "text/x-python",
   "name": "python",
   "nbconvert_exporter": "python",
   "pygments_lexer": "ipython3",
   "version": "3.7.7"
  }
 },
 "nbformat": 4,
 "nbformat_minor": 2
}