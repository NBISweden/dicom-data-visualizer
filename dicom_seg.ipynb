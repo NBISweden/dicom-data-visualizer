{
 "cells": [
  {
   "cell_type": "markdown",
   "source": [
    "# Exploring and visualizing DICOM SEG\n",
    "The purpose of this notebook is to provide guidance when attempting to explore and visualize certain DICOM data sets as provided by [AIDA](https://datahub.aida.scilifelab.se/). In particular, datasets containing DICOM SEG. For example, the following datasets:\n",
    "* [CTPA](https://datahub.aida.scilifelab.se/)\n",
    "* [CTPEL](https://datahub.aida.scilifelab.se/10.23698/aida/ctpel)\n",
    "* [DRLI](https://datahub.aida.scilifelab.se/10.23698/aida/drli)\n",
    "* [DRSKE](https://datahub.aida.scilifelab.se/10.23698/aida/drske)\n",
    "\n",
    "In the following cells, it is assumed that one examination from any of these examinations are available locally."
   ],
   "metadata": {}
  },
  {
   "cell_type": "markdown",
   "source": [
    "## Preparations"
   ],
   "metadata": {}
  },
  {
   "cell_type": "code",
   "execution_count": 1,
   "source": [
    "# Imports\n",
    "%matplotlib inline\n",
    "from pathlib import Path\n",
    "import pydicom\n",
    "import numpy as np\n",
    "from skimage import measure\n",
    "import matplotlib.pyplot as plt \n",
    "from ipywidgets.widgets import *\n",
    "\n",
    "from lib.helper import read_and_sort_dicom_files"
   ],
   "outputs": [],
   "metadata": {}
  },
  {
   "cell_type": "markdown",
   "source": [
    "Specify data to explore and visualize by providing a path to a folder. It is assumed that the specified folder contains a single examination and that all relevant files end with `.dcm`."
   ],
   "metadata": {}
  },
  {
   "cell_type": "code",
   "execution_count": 2,
   "source": [
    "folder = Path(\"/mnt/c/Users/da-for/Downloads/0FC3188AAA7E6851\")"
   ],
   "outputs": [],
   "metadata": {}
  },
  {
   "cell_type": "markdown",
   "source": [
    "Loop over all files to understand the content and to create a mapping structure.\n"
   ],
   "metadata": {}
  },
  {
   "cell_type": "code",
   "execution_count": 3,
   "source": [
    "seg_files = []\n",
    "sop_uid_to_file = {}\n",
    "sop_uid_to_series_uid = {}\n",
    "series_uid_to_sop_uids = {}\n",
    "\n",
    "for dcm_file in folder.rglob(\"*.dcm\"):\n",
    "    ds = pydicom.read_file(dcm_file)\n",
    "    if ds.Modality == \"SEG\":\n",
    "        seg_files.append(dcm_file)\n",
    "    \n",
    "    sop_uid_to_file[ds.SOPInstanceUID] = dcm_file\n",
    "    sop_uid_to_series_uid[ds.SOPInstanceUID] = ds.SeriesInstanceUID\n",
    "    if ds.SeriesInstanceUID not in series_uid_to_sop_uids:\n",
    "        series_uid_to_sop_uids[ds.SeriesInstanceUID] = []\n",
    "    series_uid_to_sop_uids[ds.SeriesInstanceUID].append(ds.SOPInstanceUID)"
   ],
   "outputs": [],
   "metadata": {}
  },
  {
   "cell_type": "markdown",
   "source": [
    "## DICOM SEG\n",
    "A DICOM SEG object contains information about a set of segmented objects as derived from a set of referenced DICOM instances. Most commonly, the segmentations are binary, but they can also be fractional. A tricky aspect of the DICOM SEG objects is that they are multi-frame objects, i.e., instead of one DICOM SEG object with a single segmentation mask per image and segmented object in, for example, a CT stack, a single DICOM SEG object contains all the segmentation masks for all segmented objects."
   ],
   "metadata": {}
  },
  {
   "cell_type": "markdown",
   "source": [
    "In the following, we assume that at least one SEG file was found and that we use the first one."
   ],
   "metadata": {}
  },
  {
   "cell_type": "code",
   "execution_count": 4,
   "source": [
    "seg_file = seg_files[0]\n",
    "seg_ds = pydicom.read_file(seg_file)\n",
    "print(f\"The SEG file {seg_file} is selected for exploration\")"
   ],
   "outputs": [
    {
     "output_type": "stream",
     "name": "stdout",
     "text": [
      "The SEG file /mnt/c/Users/da-for/Downloads/0FC3188AAA7E6851/im_3/x0000.dcm is selected for exploration\n"
     ]
    }
   ],
   "metadata": {}
  },
  {
   "cell_type": "markdown",
   "source": [
    "In the following cells, the content of the SEG file will be explored step by step."
   ],
   "metadata": {}
  },
  {
   "cell_type": "code",
   "execution_count": 5,
   "source": [
    "print(f\"The SEG file contains {len(seg_ds.SegmentSequence)} segments\")"
   ],
   "outputs": [
    {
     "output_type": "stream",
     "name": "stdout",
     "text": [
      "The SEG file contains 5 segments\n"
     ]
    }
   ],
   "metadata": {}
  },
  {
   "cell_type": "markdown",
   "source": [
    "The first segment has the following description/content:"
   ],
   "metadata": {}
  },
  {
   "cell_type": "code",
   "execution_count": 6,
   "source": [
    "print(f\"The first segmentation has the following description/content:\")\n",
    "print(f\"Anatomic Region Sequence to describe the anatomical region of the segmentation\")\n",
    "print(seg_ds.SegmentSequence[0].AnatomicRegionSequence[0])\n",
    "print(f\"\")\n",
    "print(f\"Segmented Property Category Code Sequence to describe the general category of the segmentation\")\n",
    "print(seg_ds.SegmentSequence[0].SegmentedPropertyCategoryCodeSequence[0])\n",
    "print(f\"\")\n",
    "print(f\"Segmented Property Type Code Sequence to describe the specific propery of the segmentation, what the segmented voxels represent\")\n",
    "print(seg_ds.SegmentSequence[0].SegmentedPropertyTypeCodeSequence[0])\n",
    "print(f\"\")\n",
    "print(f\"Some additional attributes include:\")\n",
    "for attribute in [\"SegmentNumber\", \"SegmentLabel\", \"SegmentDescription\", \"SegmentAlgorithmType\", \"SegmentAlgorithmName\"]:\n",
    "    print(seg_ds.SegmentSequence[0].data_element(attribute))"
   ],
   "outputs": [
    {
     "output_type": "stream",
     "name": "stdout",
     "text": [
      "The first segmentation has the following description/content:\n",
      "Anatomic Region Sequence to describe the anatomical region of the segmentation\n",
      "(0008, 0100) Code Value                          SH: 'R-FAB57'\n",
      "(0008, 0102) Coding Scheme Designator            SH: 'SRT'\n",
      "(0008, 0104) Code Meaning                        LO: 'Abdomen and Pelvis'\n",
      "\n",
      "Segmented Property Category Code Sequence to describe the general category of the segmentation\n",
      "(0008, 0100) Code Value                          SH: 'T-D000A'\n",
      "(0008, 0102) Coding Scheme Designator            SH: 'SRT'\n",
      "(0008, 0104) Code Meaning                        LO: 'Anatomical Structure'\n",
      "\n",
      "Segmented Property Type Code Sequence to describe the specific propery of the segmentation, what the segmented voxels represent\n",
      "(0008, 0100) Code Value                          SH: 'T-12710'\n",
      "(0008, 0102) Coding Scheme Designator            SH: 'SRT'\n",
      "(0008, 0104) Code Meaning                        LO: 'Femur'\n",
      "(0062, 0011)  Segmented Property Type Modifier Code Sequence  1 item(s) ---- \n",
      "   (0008, 0100) Code Value                          SH: 'G-A100'\n",
      "   (0008, 0102) Coding Scheme Designator            SH: 'SRT'\n",
      "   (0008, 0104) Code Meaning                        LO: 'Right'\n",
      "   ---------\n",
      "\n",
      "Some additional attributes include:\n",
      "(0062, 0004) Segment Number                      US: 1\n",
      "(0062, 0005) Segment Label                       LO: 'Femur'\n",
      "(0062, 0006) Segment Description                 ST: 'Right Femur'\n",
      "(0062, 0008) Segment Algorithm Type              CS: 'SEMIAUTOMATIC'\n",
      "(0062, 0009) Segment Algorithm Name              LO: 'MIALab'\n"
     ]
    }
   ],
   "metadata": {}
  },
  {
   "cell_type": "markdown",
   "source": [
    "The SEG file also contains information about the frames."
   ],
   "metadata": {}
  },
  {
   "cell_type": "markdown",
   "source": [
    "The `NumberOfFrames` specifies the number of frames contained in the `PixelData` attribute."
   ],
   "metadata": {}
  },
  {
   "cell_type": "code",
   "execution_count": 7,
   "source": [
    "print(seg_ds.data_element(\"NumberOfFrames\"))"
   ],
   "outputs": [
    {
     "output_type": "stream",
     "name": "stdout",
     "text": [
      "(0028, 0008) Number of Frames                    IS: '901'\n"
     ]
    }
   ],
   "metadata": {}
  },
  {
   "cell_type": "markdown",
   "source": [
    "Each frame is defined by:"
   ],
   "metadata": {}
  },
  {
   "cell_type": "code",
   "execution_count": 8,
   "source": [
    "print(seg_ds.data_element(\"Rows\"))\n",
    "print(seg_ds.data_element(\"Columns\"))"
   ],
   "outputs": [
    {
     "output_type": "stream",
     "name": "stdout",
     "text": [
      "(0028, 0010) Rows                                US: 512\n",
      "(0028, 0011) Columns                             US: 512\n"
     ]
    }
   ],
   "metadata": {}
  },
  {
   "cell_type": "markdown",
   "source": [
    "The `SharedFunctionalGroupsSequence` specifies information shared for all frames:"
   ],
   "metadata": {}
  },
  {
   "cell_type": "code",
   "execution_count": 9,
   "source": [
    "print(f\"{seg_ds.SharedFunctionalGroupsSequence[0]}\")"
   ],
   "outputs": [
    {
     "output_type": "stream",
     "name": "stdout",
     "text": [
      "(0020, 9116)  Plane Orientation Sequence  1 item(s) ---- \n",
      "   (0020, 0037) Image Orientation (Patient)         DS: [1.000000e+000, 0.000000e+000, 0.000000e+000, 0.000000e+000, 1.000000e+000, 0.000000e+000]\n",
      "   ---------\n",
      "(0028, 9110)  Pixel Measures Sequence  1 item(s) ---- \n",
      "   (0018, 0050) Slice Thickness                     DS: '0.7999878'\n",
      "   (0018, 0088) Spacing Between Slices              DS: '0.7999878'\n",
      "   (0028, 0030) Pixel Spacing                       DS: [7.812500e-001, 7.812500e-001]\n",
      "   ---------\n"
     ]
    }
   ],
   "metadata": {}
  },
  {
   "cell_type": "markdown",
   "source": [
    "The `PerFrameFunctionalGroupsSequence` specifies information per frame:"
   ],
   "metadata": {}
  },
  {
   "cell_type": "code",
   "execution_count": 10,
   "source": [
    "print(f\"{seg_ds.PerFrameFunctionalGroupsSequence[0]}\")"
   ],
   "outputs": [
    {
     "output_type": "stream",
     "name": "stdout",
     "text": [
      "(0008, 9124)  Derivation Image Sequence  1 item(s) ---- \n",
      "   (0008, 2112)  Source Image Sequence  1 item(s) ---- \n",
      "      (0008, 1150) Referenced SOP Class UID            UI: CT Image Storage\n",
      "      (0008, 1155) Referenced SOP Instance UID         UI: 1.3.6.1.4.1.9328.50.4.13397\n",
      "      (0040, a170)  Purpose of Reference Code Sequence  1 item(s) ---- \n",
      "         (0008, 0100) Code Value                          SH: '121322'\n",
      "         (0008, 0102) Coding Scheme Designator            SH: 'DCM'\n",
      "         (0008, 0104) Code Meaning                        LO: 'Source image for image processing operation'\n",
      "         ---------\n",
      "      ---------\n",
      "   (0008, 9215)  Derivation Code Sequence  1 item(s) ---- \n",
      "      (0008, 0100) Code Value                          SH: '113076'\n",
      "      (0008, 0102) Coding Scheme Designator            SH: 'DCM'\n",
      "      (0008, 0104) Code Meaning                        LO: 'Segmentation'\n",
      "      ---------\n",
      "   ---------\n",
      "(0020, 9111)  Frame Content Sequence  1 item(s) ---- \n",
      "   (0020, 9157) Dimension Index Values              UL: [1, 1]\n",
      "   ---------\n",
      "(0020, 9113)  Plane Position Sequence  1 item(s) ---- \n",
      "   (0020, 0032) Image Position (Patient)            DS: [-2.056094e+002, -3.566094e+002, -7.157000e+002]\n",
      "   ---------\n",
      "(0062, 000a)  Segment Identification Sequence  1 item(s) ---- \n",
      "   (0062, 000b) Referenced Segment Number           US: 1\n",
      "   ---------\n"
     ]
    }
   ],
   "metadata": {}
  },
  {
   "cell_type": "markdown",
   "source": [
    "All this can now be used to visualize the contained segments, but first we will map all the segments/frames to the respective `ReferencedSOPInstanceUID`."
   ],
   "metadata": {}
  },
  {
   "cell_type": "code",
   "execution_count": 11,
   "source": [
    "sop_uid_to_frame_indices = dict()\n",
    "SERIES_INSTANCE_UID = None\n",
    "for ind, frame in enumerate(seg_ds.PerFrameFunctionalGroupsSequence):\n",
    "    if not SERIES_INSTANCE_UID:\n",
    "        SERIES_INSTANCE_UID = sop_uid_to_series_uid[frame.DerivationImageSequence[0].SourceImageSequence[0].ReferencedSOPInstanceUID]\n",
    "    if frame.DerivationImageSequence[0].SourceImageSequence[0].ReferencedSOPInstanceUID not in sop_uid_to_frame_indices:\n",
    "        sop_uid_to_frame_indices[frame.DerivationImageSequence[0].SourceImageSequence[0].ReferencedSOPInstanceUID] = []\n",
    "    sop_uid_to_frame_indices[frame.DerivationImageSequence[0].SourceImageSequence[0].ReferencedSOPInstanceUID].append(ind)\n",
    "\n",
    "sop_uids = series_uid_to_sop_uids[SERIES_INSTANCE_UID]\n",
    "dcm_files = [sop_uid_to_file[sop_uid] for sop_uid in sop_uids]\n",
    "sorted_ds = read_and_sort_dicom_files(dcm_files)"
   ],
   "outputs": [],
   "metadata": {}
  },
  {
   "cell_type": "markdown",
   "source": [
    "Visualize the segments together with the referenced images."
   ],
   "metadata": {}
  },
  {
   "cell_type": "code",
   "execution_count": 12,
   "source": [
    "# Define a function to use to show images and associated segments\n",
    "def show_image_and_segments(ind, sorted_ds, sop_uid_to_frame_indices, frames):\n",
    "    image_ds = sorted_ds[ind]\n",
    "    sop_uid = image_ds.SOPInstanceUID\n",
    "    fig, ax = plt.subplots(1, figsize = (9,9), dpi=100)\n",
    "    ax.imshow(image_ds.pixel_array, cmap=plt.cm.gray)\n",
    "    frame_indices = []\n",
    "    if sop_uid in sop_uid_to_frame_indices:\n",
    "        frame_indices = sop_uid_to_frame_indices[sop_uid]\n",
    "    for frame_index in frame_indices:\n",
    "        segmentation_mask = frames[frame_index,:,:]\n",
    "        contours = measure.find_contours(segmentation_mask)\n",
    "        for contour in contours:\n",
    "            ax.plot(contour[:, 1], contour[:, 0], linewidth=1, color=[1,0,0])    \n",
    "    plt.show()\n",
    "    return ind"
   ],
   "outputs": [],
   "metadata": {}
  },
  {
   "cell_type": "code",
   "execution_count": 13,
   "source": [
    "interact(\n",
    "    show_image_and_segments, \n",
    "    ind=(0, len(sorted_ds)-1), \n",
    "    sorted_ds=fixed(sorted_ds), \n",
    "    sop_uid_to_frame_indices=fixed(sop_uid_to_frame_indices),\n",
    "    frames=fixed(seg_ds.pixel_array)\n",
    ")"
   ],
   "outputs": [
    {
     "output_type": "display_data",
     "data": {
      "application/vnd.jupyter.widget-view+json": {
       "version_major": 2,
       "version_minor": 0,
       "model_id": "747ce1658be942cc87f94e512f2fc00c"
      },
      "text/plain": [
       "interactive(children=(IntSlider(value=267, description='ind', max=534), Output()), _dom_classes=('widget-inter…"
      ]
     },
     "metadata": {}
    },
    {
     "output_type": "execute_result",
     "data": {
      "text/plain": [
       "<function __main__.show_image_and_segments(ind, sorted_ds, sop_uid_to_frame_indices, frames)>"
      ]
     },
     "metadata": {},
     "execution_count": 13
    }
   ],
   "metadata": {}
  }
 ],
 "metadata": {
  "interpreter": {
   "hash": "e4c3529a2f26db86f7b052929ba648f8566a6e199a06770fe9bd35b5a3eddc72"
  },
  "kernelspec": {
   "name": "python3",
   "display_name": "Python 3.7.7 64-bit ('pydicom': pyenv)"
  },
  "language_info": {
   "codemirror_mode": {
    "name": "ipython",
    "version": 3
   },
   "file_extension": ".py",
   "mimetype": "text/x-python",
   "name": "python",
   "nbconvert_exporter": "python",
   "pygments_lexer": "ipython3",
   "version": "3.7.7"
  }
 },
 "nbformat": 4,
 "nbformat_minor": 2
}