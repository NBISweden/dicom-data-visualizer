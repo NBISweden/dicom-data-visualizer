{
 "cells": [
  {
   "cell_type": "markdown",
   "source": [
    "# Exploring and visualizing DICOM SR\n",
    "The purpose of this notebook is to provide guidance when attempting to explore and visualize certain DICOM data sets as provided by [AIDA](https://datahub.aida.scilifelab.se/). In particular, datasets containing DICOM SR. For example, the following datasets:\n",
    "* [CTPA](https://datahub.aida.scilifelab.se/)\n",
    "* [CTPEL](https://datahub.aida.scilifelab.se/10.23698/aida/ctpel)\n",
    "* [DRLI](https://datahub.aida.scilifelab.se/10.23698/aida/drli)\n",
    "* [DRSKE](https://datahub.aida.scilifelab.se/10.23698/aida/drske)\n",
    "\n",
    "In the following cells, it is assumed that one examination from any of these examinations are available locally."
   ],
   "metadata": {}
  },
  {
   "cell_type": "markdown",
   "source": [
    "## Preparations"
   ],
   "metadata": {}
  },
  {
   "cell_type": "code",
   "execution_count": 1,
   "source": [
    "# Imports\n",
    "%matplotlib inline\n",
    "from pathlib import Path\n",
    "import pydicom"
   ],
   "outputs": [],
   "metadata": {}
  },
  {
   "cell_type": "markdown",
   "source": [
    "Specify data to explore and visualize by providing a path to a folder. It is assumed that the specified folder contains a single examination and that all relevant files end with `.dcm`."
   ],
   "metadata": {}
  },
  {
   "cell_type": "code",
   "execution_count": 2,
   "source": [
    "folder = Path(\"/mnt/c/Users/da-for/Downloads/0FC3188AAA7E6851\")"
   ],
   "outputs": [],
   "metadata": {}
  },
  {
   "cell_type": "markdown",
   "source": [
    "Loop over all files to understand the content and to create a mapping structure.\n"
   ],
   "metadata": {}
  },
  {
   "cell_type": "code",
   "execution_count": 3,
   "source": [
    "sr_files = []\n",
    "\n",
    "for dcm_file in folder.rglob(\"*.dcm\"):\n",
    "    ds = pydicom.read_file(dcm_file)\n",
    "    if ds.Modality == \"SR\":\n",
    "        sr_files.append(dcm_file)"
   ],
   "outputs": [],
   "metadata": {}
  },
  {
   "cell_type": "markdown",
   "source": [
    "## DICOM SR\n",
    "A DICOM SR object (SR = Structured Report) is a DICOM object that comes in many flavours. For example:\n",
    "* Basic Text SR\n",
    "* Enhanced SR\n",
    "* Comprehensive SR\n",
    "* Key Object Selection Document\n",
    "* Mammography CAD SR\n",
    "* Chest CAD SR\n",
    "Even with a single of these IODs, there can exist a variety of templates that can be used to create these object, which in turn often allows for a lot of complexity to be added.\n",
    "\n",
    "In this case, we will focus on Enhanced SR or Comprehensive SR, using [TID 1500](http://dicom.nema.org/medical/dicom/current/output/chtml/part16/chapter_A.html#sect_TID_1500), i.e., Measurement Report. This is the DICOM SR object and template suggested in [IHE Radiology Technical Framework Supplement - AI Results (AIR)](https://www.ihe.net/uploadedFiles/Documents/Radiology/IHE_RAD_Suppl_AIR.pdf) to use when communicating findings/observations from AI applications. These SR objects and this templte can of course also be used for human generated findings/observation."
   ],
   "metadata": {}
  },
  {
   "cell_type": "markdown",
   "source": [
    "In the following, we assume that at least one SEG file was found and that we use the first one."
   ],
   "metadata": {}
  },
  {
   "cell_type": "code",
   "execution_count": 4,
   "source": [
    "sr_file = sr_files[0]\n",
    "sr_ds = pydicom.read_file(sr_file)\n",
    "print(f\"The SR file {sr_file} is selected for exploration\")"
   ],
   "outputs": [
    {
     "output_type": "stream",
     "name": "stdout",
     "text": [
      "The SR file /mnt/c/Users/da-for/Downloads/0FC3188AAA7E6851/im_6/x0000.dcm is selected for exploration\n"
     ]
    }
   ],
   "metadata": {}
  },
  {
   "cell_type": "markdown",
   "source": [
    "In the following cells, the content of the SR file will be explored step by step."
   ],
   "metadata": {}
  },
  {
   "cell_type": "markdown",
   "source": [
    "The `ConceptNameCodeSequence` describes the type of report"
   ],
   "metadata": {}
  },
  {
   "cell_type": "code",
   "execution_count": 5,
   "source": [
    "print(sr_ds.ConceptNameCodeSequence[0])"
   ],
   "outputs": [
    {
     "output_type": "stream",
     "name": "stdout",
     "text": [
      "(0008, 0100) Code Value                          SH: '126000'\n",
      "(0008, 0102) Coding Scheme Designator            SH: 'DCM'\n",
      "(0008, 0104) Code Meaning                        LO: 'Imaging Measurement Report'\n"
     ]
    }
   ],
   "metadata": {}
  },
  {
   "cell_type": "markdown",
   "source": [
    "The `ContentTemplateSequence` describes the template used to create the SR report"
   ],
   "metadata": {}
  },
  {
   "cell_type": "code",
   "execution_count": 6,
   "source": [
    "print(sr_ds.ContentTemplateSequence[0])"
   ],
   "outputs": [
    {
     "output_type": "stream",
     "name": "stdout",
     "text": [
      "(0008, 0105) Mapping Resource                    CS: 'DCMR'\n",
      "(0008, 0118) Mapping Resource UID                UI: DICOM Content Mapping Resource\n",
      "(0040, db00) Template Identifier                 CS: '1500'\n"
     ]
    }
   ],
   "metadata": {}
  },
  {
   "cell_type": "markdown",
   "source": [
    "Most of the relevant content is available in the `ContentSequence`"
   ],
   "metadata": {}
  },
  {
   "cell_type": "code",
   "execution_count": 7,
   "source": [
    "print(f\"The top level content of the ContentSequence is:\")\n",
    "im_ind = None\n",
    "ind = 0\n",
    "for item in sr_ds.ContentSequence:\n",
    "    print(item.ConceptNameCodeSequence[0])\n",
    "    print(f\"\")\n",
    "    if item.ConceptNameCodeSequence[0].CodeValue == \"126010\":\n",
    "        im_ind = ind\n",
    "    ind += 1\n",
    "im_item = sr_ds.ContentSequence[im_ind]"
   ],
   "outputs": [
    {
     "output_type": "stream",
     "name": "stdout",
     "text": [
      "The top level content of the ContentSequence is:\n",
      "(0008, 0100) Code Value                          SH: '121049'\n",
      "(0008, 0102) Coding Scheme Designator            SH: 'DCM'\n",
      "(0008, 0104) Code Meaning                        LO: 'Language of Content Item and Descendants'\n",
      "\n",
      "(0008, 0100) Code Value                          SH: '121058'\n",
      "(0008, 0102) Coding Scheme Designator            SH: 'DCM'\n",
      "(0008, 0104) Code Meaning                        LO: 'Procedure Reported'\n",
      "\n",
      "(0008, 0100) Code Value                          SH: '111028'\n",
      "(0008, 0102) Coding Scheme Designator            SH: 'DCM'\n",
      "(0008, 0104) Code Meaning                        LO: 'Image Library'\n",
      "\n",
      "(0008, 0100) Code Value                          SH: '126010'\n",
      "(0008, 0102) Coding Scheme Designator            SH: 'DCM'\n",
      "(0008, 0104) Code Meaning                        LO: 'Imaging Measurements'\n",
      "\n"
     ]
    }
   ],
   "metadata": {}
  },
  {
   "cell_type": "markdown",
   "source": [
    "The last item will contain the Imaging Measurements."
   ],
   "metadata": {}
  },
  {
   "cell_type": "code",
   "execution_count": 8,
   "source": [
    "print(f\"The imaging measurement item has a content of {len(im_item.ContentSequence)} measurement groups:\")\n",
    "print(im_item.ContentSequence[0].ConceptNameCodeSequence[0])"
   ],
   "outputs": [
    {
     "output_type": "stream",
     "name": "stdout",
     "text": [
      "The imaging measurement item has a content of 15 measurement groups:\n",
      "(0008, 0100) Code Value                          SH: '125007'\n",
      "(0008, 0102) Coding Scheme Designator            SH: 'DCM'\n",
      "(0008, 0104) Code Meaning                        LO: 'Measurement Group'\n"
     ]
    }
   ],
   "metadata": {}
  },
  {
   "cell_type": "markdown",
   "source": [
    "Each measurement group has the following content:"
   ],
   "metadata": {}
  },
  {
   "cell_type": "code",
   "execution_count": 9,
   "source": [
    "for mg in im_item.ContentSequence[0].ContentSequence:\n",
    "    print(mg.ConceptNameCodeSequence[0])\n",
    "    print(f\"\")"
   ],
   "outputs": [
    {
     "output_type": "stream",
     "name": "stdout",
     "text": [
      "(0008, 0100) Code Value                          SH: '112039'\n",
      "(0008, 0102) Coding Scheme Designator            SH: 'DCM'\n",
      "(0008, 0104) Code Meaning                        LO: 'Tracking Identifier'\n",
      "\n",
      "(0008, 0100) Code Value                          SH: '112040'\n",
      "(0008, 0102) Coding Scheme Designator            SH: 'DCM'\n",
      "(0008, 0104) Code Meaning                        LO: 'Tracking Unique Identifier'\n",
      "\n",
      "(0008, 0100) Code Value                          SH: '121071'\n",
      "(0008, 0102) Coding Scheme Designator            SH: 'DCM'\n",
      "(0008, 0104) Code Meaning                        LO: 'Finding'\n",
      "\n",
      "(0008, 0100) Code Value                          SH: '363698007'\n",
      "(0008, 0102) Coding Scheme Designator            SH: 'SCT'\n",
      "(0008, 0104) Code Meaning                        LO: 'Finding Site'\n",
      "\n",
      "(0008, 0100) Code Value                          SH: '758637006'\n",
      "(0008, 0102) Coding Scheme Designator            SH: 'SCT'\n",
      "(0008, 0104) Code Meaning                        LO: 'Anatomical locations'\n",
      "\n"
     ]
    }
   ],
   "metadata": {}
  },
  {
   "cell_type": "markdown",
   "source": [
    "In this case, it is the anatomical locations that contains the so called measurement:"
   ],
   "metadata": {}
  },
  {
   "cell_type": "markdown",
   "source": [
    "The measurement further defines that this is a center point."
   ],
   "metadata": {}
  },
  {
   "cell_type": "code",
   "execution_count": 10,
   "source": [
    "print(im_item.ContentSequence[0].ContentSequence[-1].ConceptCodeSequence[0])"
   ],
   "outputs": [
    {
     "output_type": "stream",
     "name": "stdout",
     "text": [
      "(0008, 0100) Code Value                          SH: '26216008'\n",
      "(0008, 0102) Coding Scheme Designator            SH: 'SCT'\n",
      "(0008, 0104) Code Meaning                        LO: 'Center'\n"
     ]
    }
   ],
   "metadata": {}
  },
  {
   "cell_type": "markdown",
   "source": [
    "Which in turn is inferred from a specific coordinate and SOP Instance."
   ],
   "metadata": {}
  },
  {
   "cell_type": "code",
   "execution_count": 11,
   "source": [
    "print(im_item.ContentSequence[0].ContentSequence[-1].ContentSequence[0])"
   ],
   "outputs": [
    {
     "output_type": "stream",
     "name": "stdout",
     "text": [
      "(0040, a010) Relationship Type                   CS: 'INFERRED FROM'\n",
      "(0040, a040) Value Type                          CS: 'SCOORD'\n",
      "(0040, a730)  Content Sequence  1 item(s) ---- \n",
      "   (0008, 1199)  Referenced SOP Sequence  1 item(s) ---- \n",
      "      (0008, 1150) Referenced SOP Class UID            UI: CT Image Storage\n",
      "      (0008, 1155) Referenced SOP Instance UID         UI: 1.3.6.1.4.1.9328.50.4.13311\n",
      "      ---------\n",
      "   (0040, a010) Relationship Type                   CS: 'SELECTED FROM'\n",
      "   (0040, a040) Value Type                          CS: 'IMAGE'\n",
      "   ---------\n",
      "(0070, 0022) Graphic Data                        FL: [91.0, 283.0]\n",
      "(0070, 0023) Graphic Type                        CS: 'POINT'\n"
     ]
    }
   ],
   "metadata": {}
  }
 ],
 "metadata": {
  "interpreter": {
   "hash": "e4c3529a2f26db86f7b052929ba648f8566a6e199a06770fe9bd35b5a3eddc72"
  },
  "kernelspec": {
   "name": "python3",
   "display_name": "Python 3.7.7 64-bit ('pydicom': pyenv)"
  },
  "language_info": {
   "codemirror_mode": {
    "name": "ipython",
    "version": 3
   },
   "file_extension": ".py",
   "mimetype": "text/x-python",
   "name": "python",
   "nbconvert_exporter": "python",
   "pygments_lexer": "ipython3",
   "version": "3.7.7"
  }
 },
 "nbformat": 4,
 "nbformat_minor": 2
}